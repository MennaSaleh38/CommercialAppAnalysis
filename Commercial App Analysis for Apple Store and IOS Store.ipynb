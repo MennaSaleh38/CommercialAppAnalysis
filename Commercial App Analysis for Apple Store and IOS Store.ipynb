{
 "cells": [
  {
   "cell_type": "markdown",
   "id": "b3bafd91",
   "metadata": {},
   "source": [
    "## Commercial App Analysis For GooglePlay Store and App Store."
   ]
  },
  {
   "cell_type": "markdown",
   "id": "f612774b",
   "metadata": {},
   "source": [
    "**A company is looking for the most downloadble Apps in both App store and IOS store before launching a project which aims to develop an application and want to know which genres attract users to download their new developed app.**\n",
    "**The company is looking forward to develop a free English application**"
   ]
  },
  {
   "cell_type": "markdown",
   "id": "f3573a64",
   "metadata": {},
   "source": [
    "### 1) Exploring Data"
   ]
  },
  {
   "cell_type": "code",
   "execution_count": 1,
   "id": "8aaf6722",
   "metadata": {},
   "outputs": [],
   "source": [
    "import pandas as pd\n",
    "df_ios=pd.read_csv('AppleStore(1).csv') #Installing the IOSDataSet\n",
    "df_android=pd.read_csv('googleplaystore.csv') #Installing theGooglePlayStoreDataSet"
   ]
  },
  {
   "cell_type": "code",
   "execution_count": 2,
   "id": "95e04c66",
   "metadata": {
    "scrolled": true
   },
   "outputs": [
    {
     "data": {
      "text/html": [
       "<div>\n",
       "<style scoped>\n",
       "    .dataframe tbody tr th:only-of-type {\n",
       "        vertical-align: middle;\n",
       "    }\n",
       "\n",
       "    .dataframe tbody tr th {\n",
       "        vertical-align: top;\n",
       "    }\n",
       "\n",
       "    .dataframe thead th {\n",
       "        text-align: right;\n",
       "    }\n",
       "</style>\n",
       "<table border=\"1\" class=\"dataframe\">\n",
       "  <thead>\n",
       "    <tr style=\"text-align: right;\">\n",
       "      <th></th>\n",
       "      <th>id</th>\n",
       "      <th>track_name</th>\n",
       "      <th>size_bytes</th>\n",
       "      <th>currency</th>\n",
       "      <th>price</th>\n",
       "      <th>rating_count_tot</th>\n",
       "      <th>rating_count_ver</th>\n",
       "      <th>user_rating</th>\n",
       "      <th>user_rating_ver</th>\n",
       "      <th>ver</th>\n",
       "      <th>cont_rating</th>\n",
       "      <th>prime_genre</th>\n",
       "      <th>sup_devices.num</th>\n",
       "      <th>ipadSc_urls.num</th>\n",
       "      <th>lang.num</th>\n",
       "      <th>vpp_lic</th>\n",
       "    </tr>\n",
       "  </thead>\n",
       "  <tbody>\n",
       "    <tr>\n",
       "      <th>0</th>\n",
       "      <td>284882215</td>\n",
       "      <td>Facebook</td>\n",
       "      <td>389879808</td>\n",
       "      <td>USD</td>\n",
       "      <td>0.0</td>\n",
       "      <td>2974676</td>\n",
       "      <td>212</td>\n",
       "      <td>3.5</td>\n",
       "      <td>3.5</td>\n",
       "      <td>95.0</td>\n",
       "      <td>4+</td>\n",
       "      <td>Social Networking</td>\n",
       "      <td>37</td>\n",
       "      <td>1</td>\n",
       "      <td>29</td>\n",
       "      <td>1</td>\n",
       "    </tr>\n",
       "    <tr>\n",
       "      <th>1</th>\n",
       "      <td>389801252</td>\n",
       "      <td>Instagram</td>\n",
       "      <td>113954816</td>\n",
       "      <td>USD</td>\n",
       "      <td>0.0</td>\n",
       "      <td>2161558</td>\n",
       "      <td>1289</td>\n",
       "      <td>4.5</td>\n",
       "      <td>4.0</td>\n",
       "      <td>10.23</td>\n",
       "      <td>12+</td>\n",
       "      <td>Photo &amp; Video</td>\n",
       "      <td>37</td>\n",
       "      <td>0</td>\n",
       "      <td>29</td>\n",
       "      <td>1</td>\n",
       "    </tr>\n",
       "    <tr>\n",
       "      <th>2</th>\n",
       "      <td>529479190</td>\n",
       "      <td>Clash of Clans</td>\n",
       "      <td>116476928</td>\n",
       "      <td>USD</td>\n",
       "      <td>0.0</td>\n",
       "      <td>2130805</td>\n",
       "      <td>579</td>\n",
       "      <td>4.5</td>\n",
       "      <td>4.5</td>\n",
       "      <td>9.24.12</td>\n",
       "      <td>9+</td>\n",
       "      <td>Games</td>\n",
       "      <td>38</td>\n",
       "      <td>5</td>\n",
       "      <td>18</td>\n",
       "      <td>1</td>\n",
       "    </tr>\n",
       "    <tr>\n",
       "      <th>3</th>\n",
       "      <td>420009108</td>\n",
       "      <td>Temple Run</td>\n",
       "      <td>65921024</td>\n",
       "      <td>USD</td>\n",
       "      <td>0.0</td>\n",
       "      <td>1724546</td>\n",
       "      <td>3842</td>\n",
       "      <td>4.5</td>\n",
       "      <td>4.0</td>\n",
       "      <td>1.6.2</td>\n",
       "      <td>9+</td>\n",
       "      <td>Games</td>\n",
       "      <td>40</td>\n",
       "      <td>5</td>\n",
       "      <td>1</td>\n",
       "      <td>1</td>\n",
       "    </tr>\n",
       "    <tr>\n",
       "      <th>4</th>\n",
       "      <td>284035177</td>\n",
       "      <td>Pandora - Music &amp; Radio</td>\n",
       "      <td>130242560</td>\n",
       "      <td>USD</td>\n",
       "      <td>0.0</td>\n",
       "      <td>1126879</td>\n",
       "      <td>3594</td>\n",
       "      <td>4.0</td>\n",
       "      <td>4.5</td>\n",
       "      <td>8.4.1</td>\n",
       "      <td>12+</td>\n",
       "      <td>Music</td>\n",
       "      <td>37</td>\n",
       "      <td>4</td>\n",
       "      <td>1</td>\n",
       "      <td>1</td>\n",
       "    </tr>\n",
       "  </tbody>\n",
       "</table>\n",
       "</div>"
      ],
      "text/plain": [
       "          id               track_name  size_bytes currency  price  \\\n",
       "0  284882215                 Facebook   389879808      USD    0.0   \n",
       "1  389801252                Instagram   113954816      USD    0.0   \n",
       "2  529479190           Clash of Clans   116476928      USD    0.0   \n",
       "3  420009108               Temple Run    65921024      USD    0.0   \n",
       "4  284035177  Pandora - Music & Radio   130242560      USD    0.0   \n",
       "\n",
       "   rating_count_tot  rating_count_ver  user_rating  user_rating_ver      ver  \\\n",
       "0           2974676               212          3.5              3.5     95.0   \n",
       "1           2161558              1289          4.5              4.0    10.23   \n",
       "2           2130805               579          4.5              4.5  9.24.12   \n",
       "3           1724546              3842          4.5              4.0    1.6.2   \n",
       "4           1126879              3594          4.0              4.5    8.4.1   \n",
       "\n",
       "  cont_rating        prime_genre  sup_devices.num  ipadSc_urls.num  lang.num  \\\n",
       "0          4+  Social Networking               37                1        29   \n",
       "1         12+      Photo & Video               37                0        29   \n",
       "2          9+              Games               38                5        18   \n",
       "3          9+              Games               40                5         1   \n",
       "4         12+              Music               37                4         1   \n",
       "\n",
       "   vpp_lic  \n",
       "0        1  \n",
       "1        1  \n",
       "2        1  \n",
       "3        1  \n",
       "4        1  "
      ]
     },
     "execution_count": 2,
     "metadata": {},
     "output_type": "execute_result"
    }
   ],
   "source": [
    "df_ios.head()"
   ]
  },
  {
   "cell_type": "code",
   "execution_count": 3,
   "id": "a9e536df",
   "metadata": {},
   "outputs": [
    {
     "data": {
      "text/html": [
       "<div>\n",
       "<style scoped>\n",
       "    .dataframe tbody tr th:only-of-type {\n",
       "        vertical-align: middle;\n",
       "    }\n",
       "\n",
       "    .dataframe tbody tr th {\n",
       "        vertical-align: top;\n",
       "    }\n",
       "\n",
       "    .dataframe thead th {\n",
       "        text-align: right;\n",
       "    }\n",
       "</style>\n",
       "<table border=\"1\" class=\"dataframe\">\n",
       "  <thead>\n",
       "    <tr style=\"text-align: right;\">\n",
       "      <th></th>\n",
       "      <th>App</th>\n",
       "      <th>Category</th>\n",
       "      <th>Rating</th>\n",
       "      <th>Reviews</th>\n",
       "      <th>Size</th>\n",
       "      <th>Installs</th>\n",
       "      <th>Type</th>\n",
       "      <th>Price</th>\n",
       "      <th>Content Rating</th>\n",
       "      <th>Genres</th>\n",
       "      <th>Last Updated</th>\n",
       "      <th>Current Ver</th>\n",
       "      <th>Android Ver</th>\n",
       "    </tr>\n",
       "  </thead>\n",
       "  <tbody>\n",
       "    <tr>\n",
       "      <th>0</th>\n",
       "      <td>Photo Editor &amp; Candy Camera &amp; Grid &amp; ScrapBook</td>\n",
       "      <td>ART_AND_DESIGN</td>\n",
       "      <td>4.1</td>\n",
       "      <td>159</td>\n",
       "      <td>19M</td>\n",
       "      <td>10,000+</td>\n",
       "      <td>Free</td>\n",
       "      <td>0</td>\n",
       "      <td>Everyone</td>\n",
       "      <td>Art &amp; Design</td>\n",
       "      <td>January 7, 2018</td>\n",
       "      <td>1.0.0</td>\n",
       "      <td>4.0.3 and up</td>\n",
       "    </tr>\n",
       "    <tr>\n",
       "      <th>1</th>\n",
       "      <td>Coloring book moana</td>\n",
       "      <td>ART_AND_DESIGN</td>\n",
       "      <td>3.9</td>\n",
       "      <td>967</td>\n",
       "      <td>14M</td>\n",
       "      <td>500,000+</td>\n",
       "      <td>Free</td>\n",
       "      <td>0</td>\n",
       "      <td>Everyone</td>\n",
       "      <td>Art &amp; Design;Pretend Play</td>\n",
       "      <td>January 15, 2018</td>\n",
       "      <td>2.0.0</td>\n",
       "      <td>4.0.3 and up</td>\n",
       "    </tr>\n",
       "    <tr>\n",
       "      <th>2</th>\n",
       "      <td>U Launcher Lite – FREE Live Cool Themes, Hide ...</td>\n",
       "      <td>ART_AND_DESIGN</td>\n",
       "      <td>4.7</td>\n",
       "      <td>87510</td>\n",
       "      <td>8.7M</td>\n",
       "      <td>5,000,000+</td>\n",
       "      <td>Free</td>\n",
       "      <td>0</td>\n",
       "      <td>Everyone</td>\n",
       "      <td>Art &amp; Design</td>\n",
       "      <td>August 1, 2018</td>\n",
       "      <td>1.2.4</td>\n",
       "      <td>4.0.3 and up</td>\n",
       "    </tr>\n",
       "    <tr>\n",
       "      <th>3</th>\n",
       "      <td>Sketch - Draw &amp; Paint</td>\n",
       "      <td>ART_AND_DESIGN</td>\n",
       "      <td>4.5</td>\n",
       "      <td>215644</td>\n",
       "      <td>25M</td>\n",
       "      <td>50,000,000+</td>\n",
       "      <td>Free</td>\n",
       "      <td>0</td>\n",
       "      <td>Teen</td>\n",
       "      <td>Art &amp; Design</td>\n",
       "      <td>June 8, 2018</td>\n",
       "      <td>Varies with device</td>\n",
       "      <td>4.2 and up</td>\n",
       "    </tr>\n",
       "    <tr>\n",
       "      <th>4</th>\n",
       "      <td>Pixel Draw - Number Art Coloring Book</td>\n",
       "      <td>ART_AND_DESIGN</td>\n",
       "      <td>4.3</td>\n",
       "      <td>967</td>\n",
       "      <td>2.8M</td>\n",
       "      <td>100,000+</td>\n",
       "      <td>Free</td>\n",
       "      <td>0</td>\n",
       "      <td>Everyone</td>\n",
       "      <td>Art &amp; Design;Creativity</td>\n",
       "      <td>June 20, 2018</td>\n",
       "      <td>1.1</td>\n",
       "      <td>4.4 and up</td>\n",
       "    </tr>\n",
       "  </tbody>\n",
       "</table>\n",
       "</div>"
      ],
      "text/plain": [
       "                                                 App        Category  Rating  \\\n",
       "0     Photo Editor & Candy Camera & Grid & ScrapBook  ART_AND_DESIGN     4.1   \n",
       "1                                Coloring book moana  ART_AND_DESIGN     3.9   \n",
       "2  U Launcher Lite – FREE Live Cool Themes, Hide ...  ART_AND_DESIGN     4.7   \n",
       "3                              Sketch - Draw & Paint  ART_AND_DESIGN     4.5   \n",
       "4              Pixel Draw - Number Art Coloring Book  ART_AND_DESIGN     4.3   \n",
       "\n",
       "  Reviews  Size     Installs  Type Price Content Rating  \\\n",
       "0     159   19M      10,000+  Free     0       Everyone   \n",
       "1     967   14M     500,000+  Free     0       Everyone   \n",
       "2   87510  8.7M   5,000,000+  Free     0       Everyone   \n",
       "3  215644   25M  50,000,000+  Free     0           Teen   \n",
       "4     967  2.8M     100,000+  Free     0       Everyone   \n",
       "\n",
       "                      Genres      Last Updated         Current Ver  \\\n",
       "0               Art & Design   January 7, 2018               1.0.0   \n",
       "1  Art & Design;Pretend Play  January 15, 2018               2.0.0   \n",
       "2               Art & Design    August 1, 2018               1.2.4   \n",
       "3               Art & Design      June 8, 2018  Varies with device   \n",
       "4    Art & Design;Creativity     June 20, 2018                 1.1   \n",
       "\n",
       "    Android Ver  \n",
       "0  4.0.3 and up  \n",
       "1  4.0.3 and up  \n",
       "2  4.0.3 and up  \n",
       "3    4.2 and up  \n",
       "4    4.4 and up  "
      ]
     },
     "execution_count": 3,
     "metadata": {},
     "output_type": "execute_result"
    }
   ],
   "source": [
    "df_android.head()"
   ]
  },
  {
   "cell_type": "code",
   "execution_count": 4,
   "id": "aebfaf7a",
   "metadata": {},
   "outputs": [
    {
     "name": "stdout",
     "output_type": "stream",
     "text": [
      "<class 'pandas.core.frame.DataFrame'>\n",
      "RangeIndex: 10841 entries, 0 to 10840\n",
      "Data columns (total 13 columns):\n",
      " #   Column          Non-Null Count  Dtype  \n",
      "---  ------          --------------  -----  \n",
      " 0   App             10841 non-null  object \n",
      " 1   Category        10841 non-null  object \n",
      " 2   Rating          9367 non-null   float64\n",
      " 3   Reviews         10841 non-null  object \n",
      " 4   Size            10841 non-null  object \n",
      " 5   Installs        10841 non-null  object \n",
      " 6   Type            10840 non-null  object \n",
      " 7   Price           10841 non-null  object \n",
      " 8   Content Rating  10840 non-null  object \n",
      " 9   Genres          10841 non-null  object \n",
      " 10  Last Updated    10841 non-null  object \n",
      " 11  Current Ver     10833 non-null  object \n",
      " 12  Android Ver     10838 non-null  object \n",
      "dtypes: float64(1), object(12)\n",
      "memory usage: 1.1+ MB\n"
     ]
    }
   ],
   "source": [
    "#Finding outmore about our GoogleStore data, understanding our datatypes.\n",
    "df_android.info()  "
   ]
  },
  {
   "cell_type": "markdown",
   "id": "c6e9d2a8",
   "metadata": {},
   "source": [
    "We can find there are nulls in our dataset that we will be checking later in the next steps. Also Installs seems to have datatype of Object while it should be a float or integer number. We can change the datatype as well after fixing it."
   ]
  },
  {
   "cell_type": "code",
   "execution_count": 5,
   "id": "98b56f31",
   "metadata": {
    "scrolled": true
   },
   "outputs": [
    {
     "data": {
      "text/html": [
       "<div>\n",
       "<style scoped>\n",
       "    .dataframe tbody tr th:only-of-type {\n",
       "        vertical-align: middle;\n",
       "    }\n",
       "\n",
       "    .dataframe tbody tr th {\n",
       "        vertical-align: top;\n",
       "    }\n",
       "\n",
       "    .dataframe thead th {\n",
       "        text-align: right;\n",
       "    }\n",
       "</style>\n",
       "<table border=\"1\" class=\"dataframe\">\n",
       "  <thead>\n",
       "    <tr style=\"text-align: right;\">\n",
       "      <th></th>\n",
       "      <th>id</th>\n",
       "      <th>track_name</th>\n",
       "      <th>size_bytes</th>\n",
       "      <th>currency</th>\n",
       "      <th>price</th>\n",
       "      <th>rating_count_tot</th>\n",
       "      <th>rating_count_ver</th>\n",
       "      <th>user_rating</th>\n",
       "      <th>user_rating_ver</th>\n",
       "      <th>ver</th>\n",
       "      <th>cont_rating</th>\n",
       "      <th>prime_genre</th>\n",
       "      <th>sup_devices.num</th>\n",
       "      <th>ipadSc_urls.num</th>\n",
       "      <th>lang.num</th>\n",
       "      <th>vpp_lic</th>\n",
       "    </tr>\n",
       "  </thead>\n",
       "  <tbody>\n",
       "    <tr>\n",
       "      <th>0</th>\n",
       "      <td>284882215</td>\n",
       "      <td>Facebook</td>\n",
       "      <td>389879808</td>\n",
       "      <td>USD</td>\n",
       "      <td>0.0</td>\n",
       "      <td>2974676</td>\n",
       "      <td>212</td>\n",
       "      <td>3.5</td>\n",
       "      <td>3.5</td>\n",
       "      <td>95.0</td>\n",
       "      <td>4+</td>\n",
       "      <td>Social Networking</td>\n",
       "      <td>37</td>\n",
       "      <td>1</td>\n",
       "      <td>29</td>\n",
       "      <td>1</td>\n",
       "    </tr>\n",
       "    <tr>\n",
       "      <th>1</th>\n",
       "      <td>389801252</td>\n",
       "      <td>Instagram</td>\n",
       "      <td>113954816</td>\n",
       "      <td>USD</td>\n",
       "      <td>0.0</td>\n",
       "      <td>2161558</td>\n",
       "      <td>1289</td>\n",
       "      <td>4.5</td>\n",
       "      <td>4.0</td>\n",
       "      <td>10.23</td>\n",
       "      <td>12+</td>\n",
       "      <td>Photo &amp; Video</td>\n",
       "      <td>37</td>\n",
       "      <td>0</td>\n",
       "      <td>29</td>\n",
       "      <td>1</td>\n",
       "    </tr>\n",
       "    <tr>\n",
       "      <th>2</th>\n",
       "      <td>529479190</td>\n",
       "      <td>Clash of Clans</td>\n",
       "      <td>116476928</td>\n",
       "      <td>USD</td>\n",
       "      <td>0.0</td>\n",
       "      <td>2130805</td>\n",
       "      <td>579</td>\n",
       "      <td>4.5</td>\n",
       "      <td>4.5</td>\n",
       "      <td>9.24.12</td>\n",
       "      <td>9+</td>\n",
       "      <td>Games</td>\n",
       "      <td>38</td>\n",
       "      <td>5</td>\n",
       "      <td>18</td>\n",
       "      <td>1</td>\n",
       "    </tr>\n",
       "    <tr>\n",
       "      <th>3</th>\n",
       "      <td>420009108</td>\n",
       "      <td>Temple Run</td>\n",
       "      <td>65921024</td>\n",
       "      <td>USD</td>\n",
       "      <td>0.0</td>\n",
       "      <td>1724546</td>\n",
       "      <td>3842</td>\n",
       "      <td>4.5</td>\n",
       "      <td>4.0</td>\n",
       "      <td>1.6.2</td>\n",
       "      <td>9+</td>\n",
       "      <td>Games</td>\n",
       "      <td>40</td>\n",
       "      <td>5</td>\n",
       "      <td>1</td>\n",
       "      <td>1</td>\n",
       "    </tr>\n",
       "    <tr>\n",
       "      <th>4</th>\n",
       "      <td>284035177</td>\n",
       "      <td>Pandora - Music &amp; Radio</td>\n",
       "      <td>130242560</td>\n",
       "      <td>USD</td>\n",
       "      <td>0.0</td>\n",
       "      <td>1126879</td>\n",
       "      <td>3594</td>\n",
       "      <td>4.0</td>\n",
       "      <td>4.5</td>\n",
       "      <td>8.4.1</td>\n",
       "      <td>12+</td>\n",
       "      <td>Music</td>\n",
       "      <td>37</td>\n",
       "      <td>4</td>\n",
       "      <td>1</td>\n",
       "      <td>1</td>\n",
       "    </tr>\n",
       "  </tbody>\n",
       "</table>\n",
       "</div>"
      ],
      "text/plain": [
       "          id               track_name  size_bytes currency  price  \\\n",
       "0  284882215                 Facebook   389879808      USD    0.0   \n",
       "1  389801252                Instagram   113954816      USD    0.0   \n",
       "2  529479190           Clash of Clans   116476928      USD    0.0   \n",
       "3  420009108               Temple Run    65921024      USD    0.0   \n",
       "4  284035177  Pandora - Music & Radio   130242560      USD    0.0   \n",
       "\n",
       "   rating_count_tot  rating_count_ver  user_rating  user_rating_ver      ver  \\\n",
       "0           2974676               212          3.5              3.5     95.0   \n",
       "1           2161558              1289          4.5              4.0    10.23   \n",
       "2           2130805               579          4.5              4.5  9.24.12   \n",
       "3           1724546              3842          4.5              4.0    1.6.2   \n",
       "4           1126879              3594          4.0              4.5    8.4.1   \n",
       "\n",
       "  cont_rating        prime_genre  sup_devices.num  ipadSc_urls.num  lang.num  \\\n",
       "0          4+  Social Networking               37                1        29   \n",
       "1         12+      Photo & Video               37                0        29   \n",
       "2          9+              Games               38                5        18   \n",
       "3          9+              Games               40                5         1   \n",
       "4         12+              Music               37                4         1   \n",
       "\n",
       "   vpp_lic  \n",
       "0        1  \n",
       "1        1  \n",
       "2        1  \n",
       "3        1  \n",
       "4        1  "
      ]
     },
     "execution_count": 5,
     "metadata": {},
     "output_type": "execute_result"
    }
   ],
   "source": [
    "#Finding outmore about our IOS data, understanding our datatypes.\n",
    "df_ios.head()"
   ]
  },
  {
   "cell_type": "code",
   "execution_count": 6,
   "id": "f4057106",
   "metadata": {},
   "outputs": [
    {
     "data": {
      "text/plain": [
       "id                  0\n",
       "track_name          0\n",
       "size_bytes          0\n",
       "currency            0\n",
       "price               0\n",
       "rating_count_tot    0\n",
       "rating_count_ver    0\n",
       "user_rating         0\n",
       "user_rating_ver     0\n",
       "ver                 0\n",
       "cont_rating         0\n",
       "prime_genre         0\n",
       "sup_devices.num     0\n",
       "ipadSc_urls.num     0\n",
       "lang.num            0\n",
       "vpp_lic             0\n",
       "dtype: int64"
      ]
     },
     "execution_count": 6,
     "metadata": {},
     "output_type": "execute_result"
    }
   ],
   "source": [
    "#Checking nulls in our IOS data\n",
    "df_ios.isnull().sum()"
   ]
  },
  {
   "cell_type": "markdown",
   "id": "90f91853",
   "metadata": {},
   "source": [
    "We have no nulls values in our IOS Dataset."
   ]
  },
  {
   "cell_type": "code",
   "execution_count": 7,
   "id": "ca3c16b0",
   "metadata": {},
   "outputs": [
    {
     "data": {
      "text/plain": [
       "App                  0\n",
       "Category             0\n",
       "Rating            1474\n",
       "Reviews              0\n",
       "Size                 0\n",
       "Installs             0\n",
       "Type                 1\n",
       "Price                0\n",
       "Content Rating       1\n",
       "Genres               0\n",
       "Last Updated         0\n",
       "Current Ver          8\n",
       "Android Ver          3\n",
       "dtype: int64"
      ]
     },
     "execution_count": 7,
     "metadata": {},
     "output_type": "execute_result"
    }
   ],
   "source": [
    "#Checking nulls in our googlestoer dataset \n",
    "df_android.isnull().sum()"
   ]
  },
  {
   "cell_type": "markdown",
   "id": "3d2073d7",
   "metadata": {},
   "source": [
    "We can find that there are many null values in our dataset that we will need to check "
   ]
  },
  {
   "cell_type": "code",
   "execution_count": 8,
   "id": "44655411",
   "metadata": {},
   "outputs": [
    {
     "data": {
      "text/plain": [
       "0"
      ]
     },
     "execution_count": 8,
     "metadata": {},
     "output_type": "execute_result"
    }
   ],
   "source": [
    "#Checking for duplicatesin our IOS dataset\n",
    "df_ios.duplicated().sum()"
   ]
  },
  {
   "cell_type": "markdown",
   "id": "4a32a7d5",
   "metadata": {},
   "source": [
    "We have no duplicates in our IOS DataSet"
   ]
  },
  {
   "cell_type": "code",
   "execution_count": 9,
   "id": "f3b70d36",
   "metadata": {},
   "outputs": [
    {
     "data": {
      "text/plain": [
       "483"
      ]
     },
     "execution_count": 9,
     "metadata": {},
     "output_type": "execute_result"
    }
   ],
   "source": [
    "#Checking for duplicated in our android dataset\n",
    "df_android.duplicated().sum()"
   ]
  },
  {
   "cell_type": "markdown",
   "id": "cdb0bad5",
   "metadata": {},
   "source": [
    "We have many duplicates in our android dataset that we will need to discard"
   ]
  },
  {
   "cell_type": "markdown",
   "id": "39590ef7",
   "metadata": {},
   "source": [
    "### 2) Cleaning Data"
   ]
  },
  {
   "cell_type": "code",
   "execution_count": 10,
   "id": "9792e60f",
   "metadata": {},
   "outputs": [
    {
     "data": {
      "text/plain": [
       "1,000,000+        1579\n",
       "10,000,000+       1252\n",
       "100,000+          1169\n",
       "10,000+           1054\n",
       "1,000+             907\n",
       "5,000,000+         752\n",
       "100+               719\n",
       "500,000+           539\n",
       "50,000+            479\n",
       "5,000+             477\n",
       "100,000,000+       409\n",
       "10+                386\n",
       "500+               330\n",
       "50,000,000+        289\n",
       "50+                205\n",
       "5+                  82\n",
       "500,000,000+        72\n",
       "1+                  67\n",
       "1,000,000,000+      58\n",
       "0+                  14\n",
       "0                    1\n",
       "Free                 1\n",
       "Name: Installs, dtype: int64"
      ]
     },
     "execution_count": 10,
     "metadata": {},
     "output_type": "execute_result"
    }
   ],
   "source": [
    "#We will have a closer look to the column we want to change itsdatatype\n",
    "df_android['Installs'].value_counts()"
   ]
  },
  {
   "cell_type": "markdown",
   "id": "0e11435a",
   "metadata": {},
   "source": [
    "We can note that there are many \",\" and \"+\" signs which notates that are over 5000 installations for example. We will predict that they are excatly 5000 installations so we will need to discard the \",\" and \"+\" signs also 'Free' is not relative to our column here so we will need to omit that as well. "
   ]
  },
  {
   "cell_type": "code",
   "execution_count": 11,
   "id": "ee2d8612",
   "metadata": {},
   "outputs": [],
   "source": [
    "installs=list(df_android['Installs'])  #Creating a list with the number of installs \n",
    "new_installs=[] #Creating a new empty list to add our data with the correct syntax\n",
    "for install in installs:\n",
    "    new_install=install.replace(\",\",\"\").replace(\"+\",\"\")   #omitting the \",\" and \"+\" signs\n",
    "    new_installs.append(new_install) #returning the new list with the correct data we needed."
   ]
  },
  {
   "cell_type": "code",
   "execution_count": 12,
   "id": "3eb4bd15",
   "metadata": {
    "scrolled": true
   },
   "outputs": [
    {
     "data": {
      "text/html": [
       "<div>\n",
       "<style scoped>\n",
       "    .dataframe tbody tr th:only-of-type {\n",
       "        vertical-align: middle;\n",
       "    }\n",
       "\n",
       "    .dataframe tbody tr th {\n",
       "        vertical-align: top;\n",
       "    }\n",
       "\n",
       "    .dataframe thead th {\n",
       "        text-align: right;\n",
       "    }\n",
       "</style>\n",
       "<table border=\"1\" class=\"dataframe\">\n",
       "  <thead>\n",
       "    <tr style=\"text-align: right;\">\n",
       "      <th></th>\n",
       "      <th>App</th>\n",
       "      <th>Category</th>\n",
       "      <th>Rating</th>\n",
       "      <th>Reviews</th>\n",
       "      <th>Size</th>\n",
       "      <th>Installs</th>\n",
       "      <th>Type</th>\n",
       "      <th>Price</th>\n",
       "      <th>Content Rating</th>\n",
       "      <th>Genres</th>\n",
       "      <th>Last Updated</th>\n",
       "      <th>Current Ver</th>\n",
       "      <th>Android Ver</th>\n",
       "    </tr>\n",
       "  </thead>\n",
       "  <tbody>\n",
       "    <tr>\n",
       "      <th>10472</th>\n",
       "      <td>Life Made WI-Fi Touchscreen Photo Frame</td>\n",
       "      <td>1.9</td>\n",
       "      <td>19.0</td>\n",
       "      <td>3.0M</td>\n",
       "      <td>1,000+</td>\n",
       "      <td>Free</td>\n",
       "      <td>0</td>\n",
       "      <td>Everyone</td>\n",
       "      <td>NaN</td>\n",
       "      <td>February 11, 2018</td>\n",
       "      <td>1.0.19</td>\n",
       "      <td>4.0 and up</td>\n",
       "      <td>NaN</td>\n",
       "    </tr>\n",
       "  </tbody>\n",
       "</table>\n",
       "</div>"
      ],
      "text/plain": [
       "                                           App Category  Rating Reviews  \\\n",
       "10472  Life Made WI-Fi Touchscreen Photo Frame      1.9    19.0    3.0M   \n",
       "\n",
       "         Size Installs Type     Price Content Rating             Genres  \\\n",
       "10472  1,000+     Free    0  Everyone            NaN  February 11, 2018   \n",
       "\n",
       "      Last Updated Current Ver Android Ver  \n",
       "10472       1.0.19  4.0 and up         NaN  "
      ]
     },
     "execution_count": 12,
     "metadata": {},
     "output_type": "execute_result"
    }
   ],
   "source": [
    "df_android['Installs']=new_installs  #Assigning our already exisiting 'Installs' column with the new correct data\n",
    "\n",
    "#In the next step here, we will omitcheck which row exactly has \"Free\" in its number of Installs so we can delete it\n",
    "\n",
    "df_android.query('Installs==\"Free\"') "
   ]
  },
  {
   "cell_type": "markdown",
   "id": "c8b2baa2",
   "metadata": {},
   "source": [
    "It's the row with index number of 10472 that we shall use to remove the unwanted data. "
   ]
  },
  {
   "cell_type": "code",
   "execution_count": 13,
   "id": "5f750be9",
   "metadata": {},
   "outputs": [],
   "source": [
    "#dropping data with row number 10472\n",
    "df_android.drop(axis=0,index=10472,inplace=True)"
   ]
  },
  {
   "cell_type": "code",
   "execution_count": 14,
   "id": "428d4f29",
   "metadata": {},
   "outputs": [],
   "source": [
    "#assigning a column with datatype float after fixing all issues.\n",
    "df_android['Installs']=df_android['Installs'].astype(float)"
   ]
  },
  {
   "cell_type": "code",
   "execution_count": 15,
   "id": "f2e55a05",
   "metadata": {},
   "outputs": [
    {
     "data": {
      "text/plain": [
       "count    1.084000e+04\n",
       "mean     1.546434e+07\n",
       "std      8.502936e+07\n",
       "min      0.000000e+00\n",
       "25%      1.000000e+03\n",
       "50%      1.000000e+05\n",
       "75%      5.000000e+06\n",
       "max      1.000000e+09\n",
       "Name: Installs, dtype: float64"
      ]
     },
     "execution_count": 15,
     "metadata": {},
     "output_type": "execute_result"
    }
   ],
   "source": [
    "#double-checking it was converted successfully. \n",
    "df_android['Installs'].describe()"
   ]
  },
  {
   "cell_type": "markdown",
   "id": "557ff2eb",
   "metadata": {},
   "source": [
    "We can note here that it shows exponential values in our data becausethe numbers are too large. That will be fixed later on when we analyze our data."
   ]
  },
  {
   "cell_type": "code",
   "execution_count": 16,
   "id": "09f6c0ed",
   "metadata": {},
   "outputs": [],
   "source": [
    "#dropping duplicates\n",
    "df_android.drop_duplicates(inplace=True)"
   ]
  },
  {
   "cell_type": "code",
   "execution_count": 17,
   "id": "ae76497a",
   "metadata": {},
   "outputs": [
    {
     "data": {
      "text/plain": [
       "0"
      ]
     },
     "execution_count": 17,
     "metadata": {},
     "output_type": "execute_result"
    }
   ],
   "source": [
    "#doublechecking they were dropped successfully\n",
    "df_android.duplicated().sum()"
   ]
  },
  {
   "cell_type": "code",
   "execution_count": 18,
   "id": "9c58e02e",
   "metadata": {},
   "outputs": [],
   "source": [
    "#In the next steps we will start replacing null values in out dataset\n",
    "#We will replace them by calculating the mean(average) of all values in case of numbers\n",
    "#In case of strings we will be getting the most common entry(mode)\n",
    "\n",
    "rating_mean=df_android['Rating'].mean()"
   ]
  },
  {
   "cell_type": "code",
   "execution_count": 19,
   "id": "304cc671",
   "metadata": {},
   "outputs": [
    {
     "data": {
      "text/plain": [
       "['Free']"
      ]
     },
     "execution_count": 19,
     "metadata": {},
     "output_type": "execute_result"
    }
   ],
   "source": [
    "#Note that we are assigning a list here as the mode method also shows the datatype which we don't require here\n",
    "\n",
    "type_mode=list(df_android['Type'].mode())\n",
    "type_mode"
   ]
  },
  {
   "cell_type": "code",
   "execution_count": 20,
   "id": "83e0bfd5",
   "metadata": {},
   "outputs": [
    {
     "data": {
      "text/plain": [
       "['Everyone']"
      ]
     },
     "execution_count": 20,
     "metadata": {},
     "output_type": "execute_result"
    }
   ],
   "source": [
    "contentrating_mode=list(df_android['Content Rating'].mode())\n",
    "contentrating_mode"
   ]
  },
  {
   "cell_type": "code",
   "execution_count": 21,
   "id": "b5a04f65",
   "metadata": {},
   "outputs": [
    {
     "data": {
      "text/plain": [
       "['Varies with device']"
      ]
     },
     "execution_count": 21,
     "metadata": {},
     "output_type": "execute_result"
    }
   ],
   "source": [
    "currentver_mode=list(df_android['Current Ver'].mode())\n",
    "currentver_mode"
   ]
  },
  {
   "cell_type": "code",
   "execution_count": 22,
   "id": "956dd16c",
   "metadata": {},
   "outputs": [
    {
     "data": {
      "text/plain": [
       "['4.1 and up']"
      ]
     },
     "execution_count": 22,
     "metadata": {},
     "output_type": "execute_result"
    }
   ],
   "source": [
    "androidver_mode=list(df_android['Android Ver'].mode())\n",
    "androidver_mode"
   ]
  },
  {
   "cell_type": "code",
   "execution_count": 23,
   "id": "f0cd30e1",
   "metadata": {},
   "outputs": [],
   "source": [
    "#Filling all nulls with the values we just calculted\n",
    "df_android['Rating'].fillna(value=rating_mean,inplace=True)\n",
    "df_android['Type'].fillna(value=type_mode[0],inplace=True)\n",
    "df_android['Content Rating'].fillna(value=contentrating_mode[0],inplace=True)\n",
    "df_android['Current Ver'].fillna(value=contentrating_mode[0],inplace=True)\n",
    "df_android['Android Ver'].fillna(value=androidver_mode[0],inplace=True)"
   ]
  },
  {
   "cell_type": "code",
   "execution_count": 24,
   "id": "ad3c07a9",
   "metadata": {},
   "outputs": [
    {
     "data": {
      "text/plain": [
       "App               0\n",
       "Category          0\n",
       "Rating            0\n",
       "Reviews           0\n",
       "Size              0\n",
       "Installs          0\n",
       "Type              0\n",
       "Price             0\n",
       "Content Rating    0\n",
       "Genres            0\n",
       "Last Updated      0\n",
       "Current Ver       0\n",
       "Android Ver       0\n",
       "dtype: int64"
      ]
     },
     "execution_count": 24,
     "metadata": {},
     "output_type": "execute_result"
    }
   ],
   "source": [
    "#Doublechecking that there are no nulls\n",
    "df_android.isnull().sum()"
   ]
  },
  {
   "cell_type": "markdown",
   "id": "e75910f5",
   "metadata": {},
   "source": [
    "### 3) Data Filtering\n",
    "\n",
    "Our main goal here is to check free and english applications in both stores only. So we will need to filter both of our datasets using the above criteria. "
   ]
  },
  {
   "cell_type": "code",
   "execution_count": 25,
   "id": "4ed2cafd",
   "metadata": {},
   "outputs": [],
   "source": [
    "#Creating a new IOS dataset with free apps.\n",
    "df_ios_free=df_ios.query('price==0.00')"
   ]
  },
  {
   "cell_type": "code",
   "execution_count": 26,
   "id": "8ab66b43",
   "metadata": {},
   "outputs": [],
   "source": [
    "#Creating a new googlestore dataset with free apps.\n",
    "df_android_free=df_android.query('Type==\"Free\"')"
   ]
  },
  {
   "cell_type": "code",
   "execution_count": 27,
   "id": "b7d0cf4f",
   "metadata": {},
   "outputs": [],
   "source": [
    "#Creating a list with application names in both datasets\n",
    "android_apps=list(df_android_free['App'])\n",
    "ios_apps=list(df_ios_free['track_name'])"
   ]
  },
  {
   "cell_type": "code",
   "execution_count": 28,
   "id": "ec9b8175",
   "metadata": {},
   "outputs": [],
   "source": [
    "def isEnglish(string):\n",
    "    \"\"\"\n",
    "    This function takes a string to check whether an app name\n",
    "    is recoreded in English or not.\n",
    "    \"\"\"\n",
    "    non_english = 0 \n",
    "    for character in string:\n",
    "        if ord(character) > 127:    #The ord() function returns the number representing the unicode code of a specified character.\n",
    "            non_english += 1        #If the unicode is higher than 127 than it's not english \n",
    "    if non_english >=2:             #When detecting any foriegn character it should return False('not english')\n",
    "        return False\n",
    "    return True"
   ]
  },
  {
   "cell_type": "code",
   "execution_count": 29,
   "id": "7ee536c4",
   "metadata": {},
   "outputs": [
    {
     "name": "stdout",
     "output_type": "stream",
     "text": [
      "9466\n"
     ]
    }
   ],
   "source": [
    "#Creating a new list for Andriod english apps\n",
    "android_eng_apps=[]\n",
    "for androidapp in android_apps:  \n",
    "    if isEnglish(androidapp) is True:   #If the application name is english, add it to the new list\n",
    "        android_eng_apps.append(androidapp)\n",
    "print(len(android_eng_apps))"
   ]
  },
  {
   "cell_type": "code",
   "execution_count": 30,
   "id": "e0928608",
   "metadata": {},
   "outputs": [
    {
     "name": "stdout",
     "output_type": "stream",
     "text": [
      "3169\n"
     ]
    }
   ],
   "source": [
    "#Same goes to IOS apps\n",
    "ios_eng_apps=[]\n",
    "for iosapp in ios_apps:\n",
    "    if isEnglish(iosapp) is True:\n",
    "        ios_eng_apps.append(iosapp)\n",
    "print(len(ios_eng_apps))"
   ]
  },
  {
   "cell_type": "code",
   "execution_count": 31,
   "id": "66aa56a1",
   "metadata": {},
   "outputs": [],
   "source": [
    "#Creating a new dataframe with filtered data for android \n",
    "boolean_series1=df_android_free['App'].isin(android_eng_apps)\n",
    "filtered_android_df=df_android_free[boolean_series1]"
   ]
  },
  {
   "cell_type": "code",
   "execution_count": 32,
   "id": "0bef3ed5",
   "metadata": {},
   "outputs": [
    {
     "data": {
      "text/html": [
       "<div>\n",
       "<style scoped>\n",
       "    .dataframe tbody tr th:only-of-type {\n",
       "        vertical-align: middle;\n",
       "    }\n",
       "\n",
       "    .dataframe tbody tr th {\n",
       "        vertical-align: top;\n",
       "    }\n",
       "\n",
       "    .dataframe thead th {\n",
       "        text-align: right;\n",
       "    }\n",
       "</style>\n",
       "<table border=\"1\" class=\"dataframe\">\n",
       "  <thead>\n",
       "    <tr style=\"text-align: right;\">\n",
       "      <th></th>\n",
       "      <th>App</th>\n",
       "      <th>Category</th>\n",
       "      <th>Rating</th>\n",
       "      <th>Reviews</th>\n",
       "      <th>Size</th>\n",
       "      <th>Installs</th>\n",
       "      <th>Type</th>\n",
       "      <th>Price</th>\n",
       "      <th>Content Rating</th>\n",
       "      <th>Genres</th>\n",
       "      <th>Last Updated</th>\n",
       "      <th>Current Ver</th>\n",
       "      <th>Android Ver</th>\n",
       "    </tr>\n",
       "  </thead>\n",
       "  <tbody>\n",
       "    <tr>\n",
       "      <th>0</th>\n",
       "      <td>Photo Editor &amp; Candy Camera &amp; Grid &amp; ScrapBook</td>\n",
       "      <td>ART_AND_DESIGN</td>\n",
       "      <td>4.100000</td>\n",
       "      <td>159</td>\n",
       "      <td>19M</td>\n",
       "      <td>10000.0</td>\n",
       "      <td>Free</td>\n",
       "      <td>0</td>\n",
       "      <td>Everyone</td>\n",
       "      <td>Art &amp; Design</td>\n",
       "      <td>January 7, 2018</td>\n",
       "      <td>1.0.0</td>\n",
       "      <td>4.0.3 and up</td>\n",
       "    </tr>\n",
       "    <tr>\n",
       "      <th>1</th>\n",
       "      <td>Coloring book moana</td>\n",
       "      <td>ART_AND_DESIGN</td>\n",
       "      <td>3.900000</td>\n",
       "      <td>967</td>\n",
       "      <td>14M</td>\n",
       "      <td>500000.0</td>\n",
       "      <td>Free</td>\n",
       "      <td>0</td>\n",
       "      <td>Everyone</td>\n",
       "      <td>Art &amp; Design;Pretend Play</td>\n",
       "      <td>January 15, 2018</td>\n",
       "      <td>2.0.0</td>\n",
       "      <td>4.0.3 and up</td>\n",
       "    </tr>\n",
       "    <tr>\n",
       "      <th>2</th>\n",
       "      <td>U Launcher Lite – FREE Live Cool Themes, Hide ...</td>\n",
       "      <td>ART_AND_DESIGN</td>\n",
       "      <td>4.700000</td>\n",
       "      <td>87510</td>\n",
       "      <td>8.7M</td>\n",
       "      <td>5000000.0</td>\n",
       "      <td>Free</td>\n",
       "      <td>0</td>\n",
       "      <td>Everyone</td>\n",
       "      <td>Art &amp; Design</td>\n",
       "      <td>August 1, 2018</td>\n",
       "      <td>1.2.4</td>\n",
       "      <td>4.0.3 and up</td>\n",
       "    </tr>\n",
       "    <tr>\n",
       "      <th>3</th>\n",
       "      <td>Sketch - Draw &amp; Paint</td>\n",
       "      <td>ART_AND_DESIGN</td>\n",
       "      <td>4.500000</td>\n",
       "      <td>215644</td>\n",
       "      <td>25M</td>\n",
       "      <td>50000000.0</td>\n",
       "      <td>Free</td>\n",
       "      <td>0</td>\n",
       "      <td>Teen</td>\n",
       "      <td>Art &amp; Design</td>\n",
       "      <td>June 8, 2018</td>\n",
       "      <td>Varies with device</td>\n",
       "      <td>4.2 and up</td>\n",
       "    </tr>\n",
       "    <tr>\n",
       "      <th>4</th>\n",
       "      <td>Pixel Draw - Number Art Coloring Book</td>\n",
       "      <td>ART_AND_DESIGN</td>\n",
       "      <td>4.300000</td>\n",
       "      <td>967</td>\n",
       "      <td>2.8M</td>\n",
       "      <td>100000.0</td>\n",
       "      <td>Free</td>\n",
       "      <td>0</td>\n",
       "      <td>Everyone</td>\n",
       "      <td>Art &amp; Design;Creativity</td>\n",
       "      <td>June 20, 2018</td>\n",
       "      <td>1.1</td>\n",
       "      <td>4.4 and up</td>\n",
       "    </tr>\n",
       "    <tr>\n",
       "      <th>...</th>\n",
       "      <td>...</td>\n",
       "      <td>...</td>\n",
       "      <td>...</td>\n",
       "      <td>...</td>\n",
       "      <td>...</td>\n",
       "      <td>...</td>\n",
       "      <td>...</td>\n",
       "      <td>...</td>\n",
       "      <td>...</td>\n",
       "      <td>...</td>\n",
       "      <td>...</td>\n",
       "      <td>...</td>\n",
       "      <td>...</td>\n",
       "    </tr>\n",
       "    <tr>\n",
       "      <th>10836</th>\n",
       "      <td>Sya9a Maroc - FR</td>\n",
       "      <td>FAMILY</td>\n",
       "      <td>4.500000</td>\n",
       "      <td>38</td>\n",
       "      <td>53M</td>\n",
       "      <td>5000.0</td>\n",
       "      <td>Free</td>\n",
       "      <td>0</td>\n",
       "      <td>Everyone</td>\n",
       "      <td>Education</td>\n",
       "      <td>July 25, 2017</td>\n",
       "      <td>1.48</td>\n",
       "      <td>4.1 and up</td>\n",
       "    </tr>\n",
       "    <tr>\n",
       "      <th>10837</th>\n",
       "      <td>Fr. Mike Schmitz Audio Teachings</td>\n",
       "      <td>FAMILY</td>\n",
       "      <td>5.000000</td>\n",
       "      <td>4</td>\n",
       "      <td>3.6M</td>\n",
       "      <td>100.0</td>\n",
       "      <td>Free</td>\n",
       "      <td>0</td>\n",
       "      <td>Everyone</td>\n",
       "      <td>Education</td>\n",
       "      <td>July 6, 2018</td>\n",
       "      <td>1.0</td>\n",
       "      <td>4.1 and up</td>\n",
       "    </tr>\n",
       "    <tr>\n",
       "      <th>10838</th>\n",
       "      <td>Parkinson Exercices FR</td>\n",
       "      <td>MEDICAL</td>\n",
       "      <td>4.187877</td>\n",
       "      <td>3</td>\n",
       "      <td>9.5M</td>\n",
       "      <td>1000.0</td>\n",
       "      <td>Free</td>\n",
       "      <td>0</td>\n",
       "      <td>Everyone</td>\n",
       "      <td>Medical</td>\n",
       "      <td>January 20, 2017</td>\n",
       "      <td>1.0</td>\n",
       "      <td>2.2 and up</td>\n",
       "    </tr>\n",
       "    <tr>\n",
       "      <th>10839</th>\n",
       "      <td>The SCP Foundation DB fr nn5n</td>\n",
       "      <td>BOOKS_AND_REFERENCE</td>\n",
       "      <td>4.500000</td>\n",
       "      <td>114</td>\n",
       "      <td>Varies with device</td>\n",
       "      <td>1000.0</td>\n",
       "      <td>Free</td>\n",
       "      <td>0</td>\n",
       "      <td>Mature 17+</td>\n",
       "      <td>Books &amp; Reference</td>\n",
       "      <td>January 19, 2015</td>\n",
       "      <td>Varies with device</td>\n",
       "      <td>Varies with device</td>\n",
       "    </tr>\n",
       "    <tr>\n",
       "      <th>10840</th>\n",
       "      <td>iHoroscope - 2018 Daily Horoscope &amp; Astrology</td>\n",
       "      <td>LIFESTYLE</td>\n",
       "      <td>4.500000</td>\n",
       "      <td>398307</td>\n",
       "      <td>19M</td>\n",
       "      <td>10000000.0</td>\n",
       "      <td>Free</td>\n",
       "      <td>0</td>\n",
       "      <td>Everyone</td>\n",
       "      <td>Lifestyle</td>\n",
       "      <td>July 25, 2018</td>\n",
       "      <td>Varies with device</td>\n",
       "      <td>Varies with device</td>\n",
       "    </tr>\n",
       "  </tbody>\n",
       "</table>\n",
       "<p>9466 rows × 13 columns</p>\n",
       "</div>"
      ],
      "text/plain": [
       "                                                     App             Category  \\\n",
       "0         Photo Editor & Candy Camera & Grid & ScrapBook       ART_AND_DESIGN   \n",
       "1                                    Coloring book moana       ART_AND_DESIGN   \n",
       "2      U Launcher Lite – FREE Live Cool Themes, Hide ...       ART_AND_DESIGN   \n",
       "3                                  Sketch - Draw & Paint       ART_AND_DESIGN   \n",
       "4                  Pixel Draw - Number Art Coloring Book       ART_AND_DESIGN   \n",
       "...                                                  ...                  ...   \n",
       "10836                                   Sya9a Maroc - FR               FAMILY   \n",
       "10837                   Fr. Mike Schmitz Audio Teachings               FAMILY   \n",
       "10838                             Parkinson Exercices FR              MEDICAL   \n",
       "10839                      The SCP Foundation DB fr nn5n  BOOKS_AND_REFERENCE   \n",
       "10840      iHoroscope - 2018 Daily Horoscope & Astrology            LIFESTYLE   \n",
       "\n",
       "         Rating Reviews                Size    Installs  Type Price  \\\n",
       "0      4.100000     159                 19M     10000.0  Free     0   \n",
       "1      3.900000     967                 14M    500000.0  Free     0   \n",
       "2      4.700000   87510                8.7M   5000000.0  Free     0   \n",
       "3      4.500000  215644                 25M  50000000.0  Free     0   \n",
       "4      4.300000     967                2.8M    100000.0  Free     0   \n",
       "...         ...     ...                 ...         ...   ...   ...   \n",
       "10836  4.500000      38                 53M      5000.0  Free     0   \n",
       "10837  5.000000       4                3.6M       100.0  Free     0   \n",
       "10838  4.187877       3                9.5M      1000.0  Free     0   \n",
       "10839  4.500000     114  Varies with device      1000.0  Free     0   \n",
       "10840  4.500000  398307                 19M  10000000.0  Free     0   \n",
       "\n",
       "      Content Rating                     Genres      Last Updated  \\\n",
       "0           Everyone               Art & Design   January 7, 2018   \n",
       "1           Everyone  Art & Design;Pretend Play  January 15, 2018   \n",
       "2           Everyone               Art & Design    August 1, 2018   \n",
       "3               Teen               Art & Design      June 8, 2018   \n",
       "4           Everyone    Art & Design;Creativity     June 20, 2018   \n",
       "...              ...                        ...               ...   \n",
       "10836       Everyone                  Education     July 25, 2017   \n",
       "10837       Everyone                  Education      July 6, 2018   \n",
       "10838       Everyone                    Medical  January 20, 2017   \n",
       "10839     Mature 17+          Books & Reference  January 19, 2015   \n",
       "10840       Everyone                  Lifestyle     July 25, 2018   \n",
       "\n",
       "              Current Ver         Android Ver  \n",
       "0                   1.0.0        4.0.3 and up  \n",
       "1                   2.0.0        4.0.3 and up  \n",
       "2                   1.2.4        4.0.3 and up  \n",
       "3      Varies with device          4.2 and up  \n",
       "4                     1.1          4.4 and up  \n",
       "...                   ...                 ...  \n",
       "10836                1.48          4.1 and up  \n",
       "10837                 1.0          4.1 and up  \n",
       "10838                 1.0          2.2 and up  \n",
       "10839  Varies with device  Varies with device  \n",
       "10840  Varies with device  Varies with device  \n",
       "\n",
       "[9466 rows x 13 columns]"
      ]
     },
     "execution_count": 32,
     "metadata": {},
     "output_type": "execute_result"
    }
   ],
   "source": [
    "filtered_android_df"
   ]
  },
  {
   "cell_type": "code",
   "execution_count": 33,
   "id": "2a6829af",
   "metadata": {},
   "outputs": [
    {
     "data": {
      "text/html": [
       "<div>\n",
       "<style scoped>\n",
       "    .dataframe tbody tr th:only-of-type {\n",
       "        vertical-align: middle;\n",
       "    }\n",
       "\n",
       "    .dataframe tbody tr th {\n",
       "        vertical-align: top;\n",
       "    }\n",
       "\n",
       "    .dataframe thead th {\n",
       "        text-align: right;\n",
       "    }\n",
       "</style>\n",
       "<table border=\"1\" class=\"dataframe\">\n",
       "  <thead>\n",
       "    <tr style=\"text-align: right;\">\n",
       "      <th></th>\n",
       "      <th>id</th>\n",
       "      <th>track_name</th>\n",
       "      <th>size_bytes</th>\n",
       "      <th>currency</th>\n",
       "      <th>price</th>\n",
       "      <th>rating_count_tot</th>\n",
       "      <th>rating_count_ver</th>\n",
       "      <th>user_rating</th>\n",
       "      <th>user_rating_ver</th>\n",
       "      <th>ver</th>\n",
       "      <th>cont_rating</th>\n",
       "      <th>prime_genre</th>\n",
       "      <th>sup_devices.num</th>\n",
       "      <th>ipadSc_urls.num</th>\n",
       "      <th>lang.num</th>\n",
       "      <th>vpp_lic</th>\n",
       "    </tr>\n",
       "  </thead>\n",
       "  <tbody>\n",
       "    <tr>\n",
       "      <th>0</th>\n",
       "      <td>284882215</td>\n",
       "      <td>Facebook</td>\n",
       "      <td>389879808</td>\n",
       "      <td>USD</td>\n",
       "      <td>0.0</td>\n",
       "      <td>2974676</td>\n",
       "      <td>212</td>\n",
       "      <td>3.5</td>\n",
       "      <td>3.5</td>\n",
       "      <td>95.0</td>\n",
       "      <td>4+</td>\n",
       "      <td>Social Networking</td>\n",
       "      <td>37</td>\n",
       "      <td>1</td>\n",
       "      <td>29</td>\n",
       "      <td>1</td>\n",
       "    </tr>\n",
       "    <tr>\n",
       "      <th>1</th>\n",
       "      <td>389801252</td>\n",
       "      <td>Instagram</td>\n",
       "      <td>113954816</td>\n",
       "      <td>USD</td>\n",
       "      <td>0.0</td>\n",
       "      <td>2161558</td>\n",
       "      <td>1289</td>\n",
       "      <td>4.5</td>\n",
       "      <td>4.0</td>\n",
       "      <td>10.23</td>\n",
       "      <td>12+</td>\n",
       "      <td>Photo &amp; Video</td>\n",
       "      <td>37</td>\n",
       "      <td>0</td>\n",
       "      <td>29</td>\n",
       "      <td>1</td>\n",
       "    </tr>\n",
       "    <tr>\n",
       "      <th>2</th>\n",
       "      <td>529479190</td>\n",
       "      <td>Clash of Clans</td>\n",
       "      <td>116476928</td>\n",
       "      <td>USD</td>\n",
       "      <td>0.0</td>\n",
       "      <td>2130805</td>\n",
       "      <td>579</td>\n",
       "      <td>4.5</td>\n",
       "      <td>4.5</td>\n",
       "      <td>9.24.12</td>\n",
       "      <td>9+</td>\n",
       "      <td>Games</td>\n",
       "      <td>38</td>\n",
       "      <td>5</td>\n",
       "      <td>18</td>\n",
       "      <td>1</td>\n",
       "    </tr>\n",
       "    <tr>\n",
       "      <th>3</th>\n",
       "      <td>420009108</td>\n",
       "      <td>Temple Run</td>\n",
       "      <td>65921024</td>\n",
       "      <td>USD</td>\n",
       "      <td>0.0</td>\n",
       "      <td>1724546</td>\n",
       "      <td>3842</td>\n",
       "      <td>4.5</td>\n",
       "      <td>4.0</td>\n",
       "      <td>1.6.2</td>\n",
       "      <td>9+</td>\n",
       "      <td>Games</td>\n",
       "      <td>40</td>\n",
       "      <td>5</td>\n",
       "      <td>1</td>\n",
       "      <td>1</td>\n",
       "    </tr>\n",
       "    <tr>\n",
       "      <th>4</th>\n",
       "      <td>284035177</td>\n",
       "      <td>Pandora - Music &amp; Radio</td>\n",
       "      <td>130242560</td>\n",
       "      <td>USD</td>\n",
       "      <td>0.0</td>\n",
       "      <td>1126879</td>\n",
       "      <td>3594</td>\n",
       "      <td>4.0</td>\n",
       "      <td>4.5</td>\n",
       "      <td>8.4.1</td>\n",
       "      <td>12+</td>\n",
       "      <td>Music</td>\n",
       "      <td>37</td>\n",
       "      <td>4</td>\n",
       "      <td>1</td>\n",
       "      <td>1</td>\n",
       "    </tr>\n",
       "    <tr>\n",
       "      <th>...</th>\n",
       "      <td>...</td>\n",
       "      <td>...</td>\n",
       "      <td>...</td>\n",
       "      <td>...</td>\n",
       "      <td>...</td>\n",
       "      <td>...</td>\n",
       "      <td>...</td>\n",
       "      <td>...</td>\n",
       "      <td>...</td>\n",
       "      <td>...</td>\n",
       "      <td>...</td>\n",
       "      <td>...</td>\n",
       "      <td>...</td>\n",
       "      <td>...</td>\n",
       "      <td>...</td>\n",
       "      <td>...</td>\n",
       "    </tr>\n",
       "    <tr>\n",
       "      <th>7164</th>\n",
       "      <td>1065550288</td>\n",
       "      <td>Tchapper Messenger - Keep it private</td>\n",
       "      <td>82187264</td>\n",
       "      <td>USD</td>\n",
       "      <td>0.0</td>\n",
       "      <td>0</td>\n",
       "      <td>0</td>\n",
       "      <td>0.0</td>\n",
       "      <td>0.0</td>\n",
       "      <td>2.5</td>\n",
       "      <td>4+</td>\n",
       "      <td>Lifestyle</td>\n",
       "      <td>37</td>\n",
       "      <td>0</td>\n",
       "      <td>9</td>\n",
       "      <td>1</td>\n",
       "    </tr>\n",
       "    <tr>\n",
       "      <th>7177</th>\n",
       "      <td>1168960919</td>\n",
       "      <td>Golden Lotus Slots</td>\n",
       "      <td>111412224</td>\n",
       "      <td>USD</td>\n",
       "      <td>0.0</td>\n",
       "      <td>0</td>\n",
       "      <td>0</td>\n",
       "      <td>0.0</td>\n",
       "      <td>0.0</td>\n",
       "      <td>1.1.0</td>\n",
       "      <td>17+</td>\n",
       "      <td>Games</td>\n",
       "      <td>37</td>\n",
       "      <td>5</td>\n",
       "      <td>3</td>\n",
       "      <td>1</td>\n",
       "    </tr>\n",
       "    <tr>\n",
       "      <th>7192</th>\n",
       "      <td>1170406182</td>\n",
       "      <td>Shark Boom - Challenge Friends with your Pet</td>\n",
       "      <td>245415936</td>\n",
       "      <td>USD</td>\n",
       "      <td>0.0</td>\n",
       "      <td>0</td>\n",
       "      <td>0</td>\n",
       "      <td>0.0</td>\n",
       "      <td>0.0</td>\n",
       "      <td>1.0.9</td>\n",
       "      <td>4+</td>\n",
       "      <td>Games</td>\n",
       "      <td>38</td>\n",
       "      <td>5</td>\n",
       "      <td>1</td>\n",
       "      <td>1</td>\n",
       "    </tr>\n",
       "    <tr>\n",
       "      <th>7194</th>\n",
       "      <td>1070052833</td>\n",
       "      <td>Go!Go!Cat!</td>\n",
       "      <td>91468800</td>\n",
       "      <td>USD</td>\n",
       "      <td>0.0</td>\n",
       "      <td>0</td>\n",
       "      <td>0</td>\n",
       "      <td>0.0</td>\n",
       "      <td>0.0</td>\n",
       "      <td>1.1.2</td>\n",
       "      <td>12+</td>\n",
       "      <td>Games</td>\n",
       "      <td>37</td>\n",
       "      <td>2</td>\n",
       "      <td>2</td>\n",
       "      <td>1</td>\n",
       "    </tr>\n",
       "    <tr>\n",
       "      <th>7195</th>\n",
       "      <td>1081295232</td>\n",
       "      <td>Suppin Detective: Expose their true visage!</td>\n",
       "      <td>83026944</td>\n",
       "      <td>USD</td>\n",
       "      <td>0.0</td>\n",
       "      <td>0</td>\n",
       "      <td>0</td>\n",
       "      <td>0.0</td>\n",
       "      <td>0.0</td>\n",
       "      <td>1.0.3</td>\n",
       "      <td>12+</td>\n",
       "      <td>Entertainment</td>\n",
       "      <td>40</td>\n",
       "      <td>0</td>\n",
       "      <td>1</td>\n",
       "      <td>1</td>\n",
       "    </tr>\n",
       "  </tbody>\n",
       "</table>\n",
       "<p>3169 rows × 16 columns</p>\n",
       "</div>"
      ],
      "text/plain": [
       "              id                                    track_name  size_bytes  \\\n",
       "0      284882215                                      Facebook   389879808   \n",
       "1      389801252                                     Instagram   113954816   \n",
       "2      529479190                                Clash of Clans   116476928   \n",
       "3      420009108                                    Temple Run    65921024   \n",
       "4      284035177                       Pandora - Music & Radio   130242560   \n",
       "...          ...                                           ...         ...   \n",
       "7164  1065550288          Tchapper Messenger - Keep it private    82187264   \n",
       "7177  1168960919                            Golden Lotus Slots   111412224   \n",
       "7192  1170406182  Shark Boom - Challenge Friends with your Pet   245415936   \n",
       "7194  1070052833                                    Go!Go!Cat!    91468800   \n",
       "7195  1081295232   Suppin Detective: Expose their true visage!    83026944   \n",
       "\n",
       "     currency  price  rating_count_tot  rating_count_ver  user_rating  \\\n",
       "0         USD    0.0           2974676               212          3.5   \n",
       "1         USD    0.0           2161558              1289          4.5   \n",
       "2         USD    0.0           2130805               579          4.5   \n",
       "3         USD    0.0           1724546              3842          4.5   \n",
       "4         USD    0.0           1126879              3594          4.0   \n",
       "...       ...    ...               ...               ...          ...   \n",
       "7164      USD    0.0                 0                 0          0.0   \n",
       "7177      USD    0.0                 0                 0          0.0   \n",
       "7192      USD    0.0                 0                 0          0.0   \n",
       "7194      USD    0.0                 0                 0          0.0   \n",
       "7195      USD    0.0                 0                 0          0.0   \n",
       "\n",
       "      user_rating_ver      ver cont_rating        prime_genre  \\\n",
       "0                 3.5     95.0          4+  Social Networking   \n",
       "1                 4.0    10.23         12+      Photo & Video   \n",
       "2                 4.5  9.24.12          9+              Games   \n",
       "3                 4.0    1.6.2          9+              Games   \n",
       "4                 4.5    8.4.1         12+              Music   \n",
       "...               ...      ...         ...                ...   \n",
       "7164              0.0      2.5          4+          Lifestyle   \n",
       "7177              0.0    1.1.0         17+              Games   \n",
       "7192              0.0    1.0.9          4+              Games   \n",
       "7194              0.0    1.1.2         12+              Games   \n",
       "7195              0.0    1.0.3         12+      Entertainment   \n",
       "\n",
       "      sup_devices.num  ipadSc_urls.num  lang.num  vpp_lic  \n",
       "0                  37                1        29        1  \n",
       "1                  37                0        29        1  \n",
       "2                  38                5        18        1  \n",
       "3                  40                5         1        1  \n",
       "4                  37                4         1        1  \n",
       "...               ...              ...       ...      ...  \n",
       "7164               37                0         9        1  \n",
       "7177               37                5         3        1  \n",
       "7192               38                5         1        1  \n",
       "7194               37                2         2        1  \n",
       "7195               40                0         1        1  \n",
       "\n",
       "[3169 rows x 16 columns]"
      ]
     },
     "execution_count": 33,
     "metadata": {},
     "output_type": "execute_result"
    }
   ],
   "source": [
    "#Creating a new dataframe with filtered data for IOS \n",
    "boolean_series2=df_ios_free['track_name'].isin(ios_eng_apps)\n",
    "filtered_ios_df=df_ios_free[boolean_series2]\n",
    "filtered_ios_df"
   ]
  },
  {
   "cell_type": "markdown",
   "id": "83a94287",
   "metadata": {},
   "source": [
    "### 4) Data Analysis: "
   ]
  },
  {
   "cell_type": "code",
   "execution_count": 43,
   "id": "15f10396",
   "metadata": {},
   "outputs": [
    {
     "data": {
      "text/plain": [
       "33"
      ]
     },
     "execution_count": 43,
     "metadata": {},
     "output_type": "execute_result"
    }
   ],
   "source": [
    "#getting the number of genres we have in the android dataset\n",
    "len(list(filtered_android_df['Category'].value_counts().index))"
   ]
  },
  {
   "cell_type": "code",
   "execution_count": 46,
   "id": "7c2cbc4c",
   "metadata": {},
   "outputs": [
    {
     "data": {
      "text/plain": [
       "23"
      ]
     },
     "execution_count": 46,
     "metadata": {},
     "output_type": "execute_result"
    }
   ],
   "source": [
    "#getting the number of genres we have in the IOS dataset\n",
    "len(list(filtered_ios_df['prime_genre'].value_counts().index))"
   ]
  },
  {
   "cell_type": "code",
   "execution_count": 34,
   "id": "6dc11d0a",
   "metadata": {},
   "outputs": [
    {
     "data": {
      "text/plain": [
       "FAMILY                 1730\n",
       "GAME                   1022\n",
       "TOOLS                   757\n",
       "BUSINESS                414\n",
       "PRODUCTIVITY            378\n",
       "LIFESTYLE               347\n",
       "FINANCE                 341\n",
       "COMMUNICATION           337\n",
       "MEDICAL                 322\n",
       "SPORTS                  318\n",
       "PERSONALIZATION         301\n",
       "PHOTOGRAPHY             301\n",
       "HEALTH_AND_FITNESS      290\n",
       "SOCIAL                  277\n",
       "NEWS_AND_MAGAZINES      256\n",
       "TRAVEL_AND_LOCAL        223\n",
       "SHOPPING                220\n",
       "BOOKS_AND_REFERENCE     197\n",
       "DATING                  186\n",
       "VIDEO_PLAYERS           169\n",
       "MAPS_AND_NAVIGATION     127\n",
       "EDUCATION               125\n",
       "FOOD_AND_DRINK          119\n",
       "ENTERTAINMENT           108\n",
       "LIBRARIES_AND_DEMO       83\n",
       "AUTO_AND_VEHICLES        81\n",
       "HOUSE_AND_HOME           77\n",
       "WEATHER                  72\n",
       "EVENTS                   63\n",
       "ART_AND_DESIGN           61\n",
       "PARENTING                56\n",
       "COMICS                   55\n",
       "BEAUTY                   53\n",
       "Name: Category, dtype: int64"
      ]
     },
     "execution_count": 34,
     "metadata": {},
     "output_type": "execute_result"
    }
   ],
   "source": [
    "#Checking The Highest Genre in android Google play store.\n",
    "filtered_android_df['Category'].value_counts()"
   ]
  },
  {
   "cell_type": "markdown",
   "id": "28dc4e72",
   "metadata": {},
   "source": [
    "It shows that Family and Games are the highest genres in terms of number of apps in the Google Play Store"
   ]
  },
  {
   "cell_type": "code",
   "execution_count": 47,
   "id": "34641ce1",
   "metadata": {},
   "outputs": [
    {
     "data": {
      "text/plain": [
       "Category\n",
       "EVENTS                 4.36\n",
       "EDUCATION              4.36\n",
       "PARENTING              4.34\n",
       "ART_AND_DESIGN         4.33\n",
       "BOOKS_AND_REFERENCE    4.33\n",
       "PERSONALIZATION        4.28\n",
       "GAME                   4.27\n",
       "BEAUTY                 4.26\n",
       "SOCIAL                 4.25\n",
       "HEALTH_AND_FITNESS     4.25\n",
       "SHOPPING               4.24\n",
       "WEATHER                4.23\n",
       "SPORTS                 4.21\n",
       "PRODUCTIVITY           4.20\n",
       "PHOTOGRAPHY            4.19\n",
       "FAMILY                 4.18\n",
       "AUTO_AND_VEHICLES      4.18\n",
       "HOUSE_AND_HOME         4.18\n",
       "FOOD_AND_DRINK         4.18\n",
       "LIBRARIES_AND_DEMO     4.18\n",
       "MEDICAL                4.17\n",
       "COMMUNICATION          4.16\n",
       "COMICS                 4.15\n",
       "FINANCE                4.14\n",
       "BUSINESS               4.14\n",
       "NEWS_AND_MAGAZINES     4.13\n",
       "ENTERTAINMENT          4.12\n",
       "TRAVEL_AND_LOCAL       4.10\n",
       "LIFESTYLE              4.10\n",
       "MAPS_AND_NAVIGATION    4.07\n",
       "VIDEO_PLAYERS          4.07\n",
       "TOOLS                  4.06\n",
       "DATING                 4.02\n",
       "Name: Rating, dtype: float64"
      ]
     },
     "execution_count": 47,
     "metadata": {},
     "output_type": "execute_result"
    }
   ],
   "source": [
    "#Checking the average number of user ratings for each genre\n",
    "round(filtered_android_df.groupby('Category')['Rating'].mean().nlargest(33),2)"
   ]
  },
  {
   "cell_type": "markdown",
   "id": "6517b37b",
   "metadata": {},
   "source": [
    "Events, Education and Parenting have the highest ratings from users when it comes to android Google PlayStore"
   ]
  },
  {
   "cell_type": "code",
   "execution_count": 48,
   "id": "093cbc59",
   "metadata": {},
   "outputs": [
    {
     "data": {
      "text/plain": [
       "Category\n",
       "COMMUNICATION          71664410.06\n",
       "SOCIAL                 45176396.76\n",
       "VIDEO_PLAYERS          36809655.15\n",
       "PRODUCTIVITY           32967273.32\n",
       "PHOTOGRAPHY            32289929.62\n",
       "GAME                   30635580.57\n",
       "TRAVEL_AND_LOCAL       28527771.69\n",
       "ENTERTAINMENT          22726481.48\n",
       "NEWS_AND_MAGAZINES     21062875.82\n",
       "TOOLS                  15126112.91\n",
       "SHOPPING               11696948.11\n",
       "BOOKS_AND_REFERENCE     9727836.35\n",
       "PERSONALIZATION         6877818.56\n",
       "WEATHER                 5898451.67\n",
       "FAMILY                  5777851.55\n",
       "MAPS_AND_NAVIGATION     5661104.57\n",
       "SPORTS                  4802734.43\n",
       "HEALTH_AND_FITNESS      4691544.49\n",
       "EDUCATION               4258800.00\n",
       "FINANCE                 2229188.07\n",
       "FOOD_AND_DRINK          2149904.63\n",
       "BUSINESS                2085512.29\n",
       "ART_AND_DESIGN          2038050.82\n",
       "HOUSE_AND_HOME          1618342.35\n",
       "LIFESTYLE               1520110.75\n",
       "DATING                  1104891.17\n",
       "COMICS                   998475.45\n",
       "LIBRARIES_AND_DEMO       757780.84\n",
       "AUTO_AND_VEHICLES        654074.83\n",
       "PARENTING                552875.18\n",
       "BEAUTY                   513151.89\n",
       "EVENTS                   253542.22\n",
       "MEDICAL                  128858.21\n",
       "Name: Installs, dtype: float64"
      ]
     },
     "execution_count": 48,
     "metadata": {},
     "output_type": "execute_result"
    }
   ],
   "source": [
    "#Checking the average number of installs for each genre\n",
    "round(filtered_android_df.groupby('Category')['Installs'].mean().nlargest(33),2)"
   ]
  },
  {
   "cell_type": "markdown",
   "id": "03207295",
   "metadata": {},
   "source": [
    "Communication and social apps have the highest number of Installs when it comes to android Google Playstore"
   ]
  },
  {
   "cell_type": "code",
   "execution_count": 37,
   "id": "40ccfe8f",
   "metadata": {},
   "outputs": [
    {
     "data": {
      "text/plain": [
       "Games                1855\n",
       "Entertainment         248\n",
       "Photo & Video         160\n",
       "Education             118\n",
       "Social Networking     104\n",
       "Shopping               80\n",
       "Utilities              76\n",
       "Sports                 69\n",
       "Music                  65\n",
       "Health & Fitness       63\n",
       "Productivity           54\n",
       "Lifestyle              49\n",
       "News                   42\n",
       "Travel                 36\n",
       "Finance                35\n",
       "Weather                27\n",
       "Food & Drink           26\n",
       "Business               17\n",
       "Reference              17\n",
       "Book                   12\n",
       "Navigation              6\n",
       "Medical                 6\n",
       "Catalogs                4\n",
       "Name: prime_genre, dtype: int64"
      ]
     },
     "execution_count": 37,
     "metadata": {},
     "output_type": "execute_result"
    }
   ],
   "source": [
    "#Checking the highest number of genre in the Apple Store.\n",
    "filtered_ios_df['prime_genre'].value_counts()"
   ]
  },
  {
   "cell_type": "markdown",
   "id": "0f9870b8",
   "metadata": {},
   "source": [
    "Games seems to be ranking number one when it comes to number of application in the Apple Store"
   ]
  },
  {
   "cell_type": "code",
   "execution_count": 49,
   "id": "6e37c6be",
   "metadata": {},
   "outputs": [
    {
     "data": {
      "text/plain": [
       "prime_genre\n",
       "Navigation           86090.33\n",
       "Reference            79350.47\n",
       "Social Networking    72916.55\n",
       "Music                58205.03\n",
       "Weather              54215.30\n",
       "Book                 46384.92\n",
       "Food & Drink         33333.92\n",
       "Finance              32367.03\n",
       "Travel               31358.50\n",
       "Photo & Video        28441.54\n",
       "Shopping             27816.20\n",
       "Health & Fitness     24037.63\n",
       "Sports               23008.90\n",
       "Games                22985.21\n",
       "Productivity         21799.15\n",
       "News                 21750.07\n",
       "Utilities            19900.47\n",
       "Lifestyle            16739.35\n",
       "Entertainment        14364.77\n",
       "Business              7491.12\n",
       "Education             7003.98\n",
       "Catalogs              4004.00\n",
       "Medical                612.00\n",
       "Name: rating_count_tot, dtype: float64"
      ]
     },
     "execution_count": 49,
     "metadata": {},
     "output_type": "execute_result"
    }
   ],
   "source": [
    "#Checking the avrage user ratings for each genre\n",
    "round(filtered_ios_df.groupby('prime_genre')['rating_count_tot'].mean().nlargest(23),2)"
   ]
  },
  {
   "cell_type": "markdown",
   "id": "424a9cfd",
   "metadata": {},
   "source": [
    "Navigation and Reference have the highest count of  user ratings"
   ]
  },
  {
   "cell_type": "code",
   "execution_count": 50,
   "id": "7106369b",
   "metadata": {},
   "outputs": [
    {
     "data": {
      "text/plain": [
       "prime_genre\n",
       "Catalogs             4.12\n",
       "Productivity         4.06\n",
       "Games                4.06\n",
       "Shopping             3.98\n",
       "Business             3.97\n",
       "Music                3.95\n",
       "Photo & Video        3.90\n",
       "Health & Fitness     3.89\n",
       "Reference            3.88\n",
       "Navigation           3.83\n",
       "Education            3.64\n",
       "Food & Drink         3.63\n",
       "Social Networking    3.60\n",
       "Book                 3.58\n",
       "Utilities            3.57\n",
       "Entertainment        3.54\n",
       "Weather              3.48\n",
       "Finance              3.47\n",
       "Lifestyle            3.46\n",
       "Travel               3.44\n",
       "News                 3.23\n",
       "Sports               3.07\n",
       "Medical              3.00\n",
       "Name: user_rating, dtype: float64"
      ]
     },
     "execution_count": 50,
     "metadata": {},
     "output_type": "execute_result"
    }
   ],
   "source": [
    "round(filtered_ios_df.groupby('prime_genre')['user_rating'].mean().nlargest(23),2)"
   ]
  },
  {
   "cell_type": "markdown",
   "id": "40289773",
   "metadata": {},
   "source": [
    "Catalogs and Productivty and Games have the highest user ratings"
   ]
  },
  {
   "cell_type": "markdown",
   "id": "277fbeec",
   "metadata": {},
   "source": [
    "### 5) Conclusion:"
   ]
  },
  {
   "cell_type": "markdown",
   "id": "4dd055ae",
   "metadata": {},
   "source": [
    "**GOOGLEPLAY:**\n",
    "For Googe Play, the app genre I would recommend are communication apps as they have the highest number of installs. There are also 337 apps  in this category such that users might switch if a better app was produced as the average rating is 4.16\n",
    "\n",
    "**IOS:**\n",
    "For Apple Store, the app genre I would recommend are Game applications as they have highest count of apps. Also it has a very good user rating of average 4.06%. Comes in second place is social networking. The average rating count of users on social network application apps show that uers do show interest in using those kind of applications.\n",
    "\n",
    "**Cross Platform:**\n",
    "If we were looking to develop an app in both platforms so it's either Games or Communication/Social Networking that would win the bet."
   ]
  },
  {
   "cell_type": "code",
   "execution_count": null,
   "id": "88dabca8",
   "metadata": {},
   "outputs": [],
   "source": []
  }
 ],
 "metadata": {
  "kernelspec": {
   "display_name": "Python 3 (ipykernel)",
   "language": "python",
   "name": "python3"
  },
  "language_info": {
   "codemirror_mode": {
    "name": "ipython",
    "version": 3
   },
   "file_extension": ".py",
   "mimetype": "text/x-python",
   "name": "python",
   "nbconvert_exporter": "python",
   "pygments_lexer": "ipython3",
   "version": "3.9.7"
  }
 },
 "nbformat": 4,
 "nbformat_minor": 5
}
